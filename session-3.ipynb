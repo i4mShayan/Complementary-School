{
 "cells": [
  {
   "cell_type": "code",
   "execution_count": 4,
   "metadata": {},
   "outputs": [],
   "source": [
    "import sys\n",
    "import json\n",
    "from pprint import pprint\n",
    "import csv\n",
    "from elasticsearch import Elasticsearch\n",
    "import pandas as pd\n",
    "from elasticsearch.helpers import bulk"
   ]
  },
  {
   "cell_type": "code",
   "execution_count": 5,
   "metadata": {},
   "outputs": [
    {
     "name": "stdout",
     "output_type": "stream",
     "text": [
      "     Name Family name  Age Honorifics\n",
      "0     Ali      abbasi   16         Dr\n",
      "1  hosein      Ahmadi   17         Mr\n"
     ]
    }
   ],
   "source": [
    "df = pd.read_csv('data.csv')\n",
    "\n",
    "print(df.head())"
   ]
  },
  {
   "cell_type": "code",
   "execution_count": 6,
   "metadata": {},
   "outputs": [
    {
     "data": {
      "text/plain": [
       "True"
      ]
     },
     "execution_count": 6,
     "metadata": {},
     "output_type": "execute_result"
    }
   ],
   "source": [
    "es = Elasticsearch(\n",
    "    ['localhost'],\n",
    "    port=9200\n",
    ")\n",
    "\n",
    "es.ping()"
   ]
  },
  {
   "cell_type": "markdown",
   "metadata": {},
   "source": [
    "#### Not bulky"
   ]
  },
  {
   "cell_type": "code",
   "execution_count": 7,
   "metadata": {},
   "outputs": [],
   "source": [
    "for _, row in df.iterrows():\n",
    "    document = row.to_dict()\n",
    "    es.index(index='persons', body=document, doc_type=csv)"
   ]
  },
  {
   "cell_type": "markdown",
   "metadata": {},
   "source": [
    "#### Bulky"
   ]
  },
  {
   "cell_type": "code",
   "execution_count": 8,
   "metadata": {},
   "outputs": [
    {
     "data": {
      "text/plain": [
       "(2, [])"
      ]
     },
     "execution_count": 8,
     "metadata": {},
     "output_type": "execute_result"
    }
   ],
   "source": [
    "index = 'persons_bulk'\n",
    "\n",
    "bulk_data = []\n",
    "for _, row in df.iterrows():\n",
    "    document = row.to_dict()\n",
    "    action = {\n",
    "        '_index': index,\n",
    "        '_source': document\n",
    "    }\n",
    "    bulk_data.append(action)\n",
    "\n",
    "bulk(es, bulk_data, index=index)"
   ]
  },
  {
   "cell_type": "code",
   "execution_count": 11,
   "metadata": {},
   "outputs": [
    {
     "name": "stdout",
     "output_type": "stream",
     "text": [
      "{'Name': 'Ali', 'Family name': ' abbasi', 'Age': 16, 'Honorifics': ' Dr'}\n",
      "{'Name': 'hosein', 'Family name': ' Ahmadi', 'Age': 17, 'Honorifics': ' Mr'}\n",
      "{'Name': 'Ali', 'Family name': ' abbasi', 'Age': 16, 'Honorifics': ' Dr'}\n",
      "{'Name': 'hosein', 'Family name': ' Ahmadi', 'Age': 17, 'Honorifics': ' Mr'}\n",
      "{'Name': 'Ali', 'Family name': ' abbasi', 'Age': 16, 'Honorifics': ' Dr'}\n",
      "{'Name': 'hosein', 'Family name': ' Ahmadi', 'Age': 17, 'Honorifics': ' Mr'}\n"
     ]
    }
   ],
   "source": [
    "search_query = {\n",
    "    \"query\": {\n",
    "        \"match_all\": {}\n",
    "    }\n",
    "}\n",
    "\n",
    "response = es.transport.perform_request(\n",
    "    method='GET',\n",
    "    url='/persons_bulk/_search',\n",
    "    body=search_query\n",
    ")\n",
    "\n",
    "hits = response['hits']['hits']\n",
    "for hit in hits:\n",
    "    source = hit['_source']\n",
    "    print(source)"
   ]
  }
 ],
 "metadata": {
  "kernelspec": {
   "display_name": "Python 3",
   "language": "python",
   "name": "python3"
  },
  "language_info": {
   "codemirror_mode": {
    "name": "ipython",
    "version": 3
   },
   "file_extension": ".py",
   "mimetype": "text/x-python",
   "name": "python",
   "nbconvert_exporter": "python",
   "pygments_lexer": "ipython3",
   "version": "3.11.1"
  }
 },
 "nbformat": 4,
 "nbformat_minor": 2
}
